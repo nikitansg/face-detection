{
 "cells": [
  {
   "cell_type": "code",
   "execution_count": 1,
   "id": "2e696102",
   "metadata": {},
   "outputs": [],
   "source": [
    "#importing libraries\n",
    "import numpy as np\n",
    "import cv2"
   ]
  },
  {
   "cell_type": "code",
   "execution_count": 2,
   "id": "7098f48d",
   "metadata": {},
   "outputs": [
    {
     "data": {
      "text/plain": [
       "True"
      ]
     },
     "execution_count": 2,
     "metadata": {},
     "output_type": "execute_result"
    }
   ],
   "source": [
    "# Enable '0' is default ID for builtin webcam \n",
    "imcap = cv2.VideoCapture(0)\n",
    "imcap.set(3, 640) # set width as 640\n",
    "imcap.set(4, 480) # set height as 480"
   ]
  },
  {
   "cell_type": "code",
   "execution_count": 3,
   "id": "2d16843f",
   "metadata": {},
   "outputs": [],
   "source": [
    "# importing cascade\n",
    "faceCascade = cv2.CascadeClassifier(cv2.data.haarcascades + \"haarcascade_frontalface_default.xml\")"
   ]
  },
  {
   "cell_type": "code",
   "execution_count": null,
   "id": "3b29ae49",
   "metadata": {},
   "outputs": [],
   "source": [
    "while True:\n",
    "    success, img = imcap.read() # capture frame from video\n",
    "    # converting image from color to grayscale \n",
    "    imgGray = cv2.cvtColor(img, cv2.COLOR_BGR2GRAY)\n",
    "\n",
    "    # Getting corners around the face\n",
    "    # 1.3 = scale factor, 5 = minimum neighbor can be detected\n",
    "    faces = faceCascade.detectMultiScale(imgGray, 1.3, 5)  \n",
    "\n",
    "    # drawing bounding box around face\n",
    "    for (x, y, w, h) in faces:\n",
    "        img = cv2.rectangle(img, (x, y), (x + w, y + h), (0, 255,   0), 3)\n",
    "    # displaying image with bounding box\n",
    "    cv2.imshow('face_detect', img)\n",
    "    # loop will be broken when 'q' is pressed on the keyboard\n",
    "    if cv2.waitKey(2) == ord('q'):\n",
    "        break\n",
    "imcap.release()\n",
    "cv2.destroyAllWindow('face_detect')"
   ]
  },
  {
   "cell_type": "code",
   "execution_count": null,
   "id": "126b6f5b",
   "metadata": {},
   "outputs": [],
   "source": []
  }
 ],
 "metadata": {
  "kernelspec": {
   "display_name": "Python 3",
   "language": "python",
   "name": "python3"
  },
  "language_info": {
   "codemirror_mode": {
    "name": "ipython",
    "version": 3
   },
   "file_extension": ".py",
   "mimetype": "text/x-python",
   "name": "python",
   "nbconvert_exporter": "python",
   "pygments_lexer": "ipython3",
   "version": "3.8.8"
  }
 },
 "nbformat": 4,
 "nbformat_minor": 5
}
